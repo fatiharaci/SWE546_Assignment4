{
 "cells": [
  {
   "cell_type": "markdown",
   "metadata": {
    "collapsed": true
   },
   "source": [
    "# SWE546_Assignment4\n",
    "# Fatih Aracı 2014719111\n",
    "\n",
    "MovieLens Recommendation System\n",
    "\n",
    "http://grouplens.org/datasets/movielens/\n",
    "\n",
    "Using the MovieLens 1M dataset, and using only the rankings, implement a recommendation sytem using SGD.\n",
    "\n",
    "The output of your program must be the highest estimated rankings for the first 10 movies of the first 20 users\n",
    "\n",
    "\n"
   ]
  },
  {
   "cell_type": "code",
   "execution_count": 17,
   "metadata": {
    "collapsed": false
   },
   "outputs": [
    {
     "name": "stderr",
     "output_type": "stream",
     "text": [
      "C:\\Anaconda3\\lib\\site-packages\\ipykernel\\__main__.py:6: ParserWarning: Falling back to the 'python' engine because the 'c' engine does not support regex separators; you can avoid this warning by specifying engine='python'.\n"
     ]
    }
   ],
   "source": [
    "import numpy as np\n",
    "import pandas as pd\n",
    "import matplotlib.pylab as plt\n",
    "\n",
    "rnames = ['user_id', 'movie_id', 'rating', 'timestamp']\n",
    "ratings = pd.read_table('data/ratings.dat', sep='::', header=None, names=rnames)"
   ]
  },
  {
   "cell_type": "code",
   "execution_count": 25,
   "metadata": {
    "collapsed": false
   },
   "outputs": [],
   "source": [
    "# Since it is a ordered dataset shuffling is a good start\n",
    "ratings = ratings.sample(frac=1)\n",
    "\n",
    "# We will create a Y matrix and decompose it into A and B\n",
    "# Firstly lets crate Ystar from the ratings table:\n",
    "Ys = np.mat(ratings)\n",
    "\n",
    "\n",
    "# The data we get does not contains all of the movies.So we have to create a matrix using number of users and movies.\n",
    "# So we can crate M and Y\n",
    "\n",
    "# Number of Users\n",
    "number_of_users = np.max(Ys[:,0]) \n",
    "\n",
    "# Number of Movies\n",
    "number_of_movies = np.max(Ys[:,1])\n",
    "\n",
    "# This Mask matrix will hold only 1s for the data we have.\n",
    "M = np.zeros((number_of_users+1, number_of_movies+1))\n",
    "\n",
    "# This Y matrix holds the real values from our original data.\n",
    "Y = np.zeros((number_of_users+1, number_of_movies+1))\n",
    "\n",
    "# Lets fill these Y and M matrices\n",
    "Ysize = Ys.shape[0]\n",
    "for i in range(Ysize):\n",
    "    # Create the Mask matrix: M[user, movie]\n",
    "    M[Ys[i,0], Ys[i,1]] = 1\n",
    "    # Create the Y matrix with the original values from the ratings table\n",
    "    Y[Ys[i,0] , Ys[i,1]] = Ys[i, 2]"
   ]
  },
  {
   "cell_type": "markdown",
   "metadata": {},
   "source": [
    "Now we have all the data we need in order to use SGD"
   ]
  },
  {
   "cell_type": "code",
   "execution_count": null,
   "metadata": {
    "collapsed": false
   },
   "outputs": [],
   "source": [
    "# SGD calculates a close value and with every iteration makes the error less so we neeed some variables.\n",
    "epoch = 5\n",
    "Eta = 0.1\n",
    "eta=Eta\n",
    "\n",
    "# Sample_k to iterate over\n",
    "k = 50000\n",
    "\n",
    "# in SGD we need to calculate error totally\n",
    "T_error = []\n",
    "\n",
    "# lets create random A and B matrices\n",
    "A = np.mat(np.random.rand(number_of_users+1, 1))\n",
    "B = np.mat(np.random.rand(1, number_of_movies+1))\n",
    "\n",
    "# Iterate EPOCH times\n",
    "for i in range(epoch):\n",
    "    \n",
    "    # Print average error for illustration\n",
    "    E = np.multiply(M, np.subtract(Y, A*B))\n",
    "    Err = np.sum(np.square(E)) / np.sum(M)\n",
    "    \n",
    "    # Add to array\n",
    "    T_error.append(Err)\n",
    "    \n",
    "    # Iterate data\n",
    "    for k in range(sample_k):\n",
    "        \n",
    "        # Define u and m values\n",
    "        u = Ys[k,0]\n",
    "        m = Ys[k,1]\n",
    "        \n",
    "        # Find error for each point\n",
    "        err = Ys[k,2] - (A[u,:] * B[:,m])\n",
    "\n",
    "        # Derivation and updating A and B values\n",
    "        temp_A = A[u,:] + (eta * err[0,0] * B[:,m].T)\n",
    "        B[:,m]   = B[:,m] + (eta * err[0,0] * A[u,:].T)\n",
    "        A[u,:]   = temp_A\n",
    "\n",
    "    eta = Eta * 1./(i+1)\n",
    "    \n",
    "    \n",
    "total_iteration = list(range(epoch))"
   ]
  },
  {
   "cell_type": "code",
   "execution_count": null,
   "metadata": {
    "collapsed": false
   },
   "outputs": [],
   "source": [
    "plt.plot(total_iteration, T_error, 'ro-')\n",
    "plt.xlabel(\"EPOCH Iteration\")\n",
    "plt.ylabel(\"Total Error\")\n",
    "plt.show()\n",
    "\n",
    "print(5)"
   ]
  }
 ],
 "metadata": {
  "kernelspec": {
   "display_name": "Python 3",
   "language": "python",
   "name": "python3"
  },
  "language_info": {
   "codemirror_mode": {
    "name": "ipython",
    "version": 3
   },
   "file_extension": ".py",
   "mimetype": "text/x-python",
   "name": "python",
   "nbconvert_exporter": "python",
   "pygments_lexer": "ipython3",
   "version": "3.5.1"
  }
 },
 "nbformat": 4,
 "nbformat_minor": 0
}
